{
  "nbformat": 4,
  "nbformat_minor": 0,
  "metadata": {
    "colab": {
      "name": "Example 1 Credit Application.ipynb",
      "provenance": [],
      "collapsed_sections": [
        "2Y2hZ8LlntvS",
        "2_ieqM4P1y8r",
        "7KIegp_f13lp",
        "bxccBYxHJUXF",
        "fUX9uDFEGhS2",
        "xFtmp27paAF1",
        "SKQiXYLh2u8A",
        "atyu7p8-MMgt",
        "4oCODVqQPXS0",
        "DIwwEp8ZO1Em",
        "mVpxfXJpX_SC",
        "fyhwgnJkKnSG",
        "6hLnAXe-d_dh"
      ],
      "toc_visible": true
    },
    "kernelspec": {
      "name": "python3",
      "display_name": "Python 3"
    }
  },
  "cells": [
    {
      "cell_type": "markdown",
      "metadata": {
        "id": "2Y2hZ8LlntvS",
        "colab_type": "text"
      },
      "source": [
        "#Import Libraries"
      ]
    },
    {
      "cell_type": "code",
      "metadata": {
        "id": "S_vu7Ausn2Q4",
        "colab_type": "code",
        "colab": {}
      },
      "source": [
        "import pandas as pd\n",
        "import numpy as np\n",
        "from sklearn.model_selection import train_test_split\n",
        "import matplotlib.pyplot as plt\n",
        "import matplotlib.ticker as ticker\n",
        "import seaborn as sns\n",
        "from  sklearn import  datasets "
      ],
      "execution_count": null,
      "outputs": []
    },
    {
      "cell_type": "markdown",
      "metadata": {
        "id": "2_ieqM4P1y8r",
        "colab_type": "text"
      },
      "source": [
        "#Load Data and Exploratory Data Analysis"
      ]
    },
    {
      "cell_type": "code",
      "metadata": {
        "id": "d17Agq0V1UmH",
        "colab_type": "code",
        "colab": {}
      },
      "source": [
        "# Will use training set as data corpus since it's relatively large\n",
        "df = pd.read_csv('https://raw.githubusercontent.com/taspett/dataset/master/cs-training.csv')\n"
      ],
      "execution_count": null,
      "outputs": []
    },
    {
      "cell_type": "markdown",
      "metadata": {
        "id": "7KIegp_f13lp",
        "colab_type": "text"
      },
      "source": [
        "# Transform Data"
      ]
    },
    {
      "cell_type": "code",
      "metadata": {
        "id": "nZ6u_OixvPKZ",
        "colab_type": "code",
        "colab": {}
      },
      "source": [
        "df.rename(columns={'age': 'Age',\n",
        "                   'SeriousDlqin2yrs': 'Approval',\n",
        "                   'RevolvingUtilizationOfUnsecuredLines': 'Utilization',\n",
        "                   'NumberOfTime30-59DaysPastDueNotWorse':'30-59DaysPastDue',\n",
        "                   'NumberOfOpenCreditLinesAndLoans':'OpenCreditLinesAndLoans',\n",
        "                   'NumberOfTimes90DaysLate':'90DaysLate',\n",
        "                   'NumberRealEstateLoansOrLines':'RealEstateLoans',\n",
        "                   'NumberOfTime60-89DaysPastDueNotWorse':'60-89DaysPastDue',\n",
        "                   'NumberOfDependents':'Dependents'}, \n",
        "                 inplace=True)\n",
        "df['Approval'] = np.where(df.Approval == 1, 0, 1) # reverse\n",
        "\n",
        "df.dropna(axis=0, inplace=True)\n",
        "df = df.drop(columns=['Unnamed: 0'])"
      ],
      "execution_count": null,
      "outputs": []
    },
    {
      "cell_type": "markdown",
      "metadata": {
        "id": "bxccBYxHJUXF",
        "colab_type": "text"
      },
      "source": [
        "#Correlation Matrix"
      ]
    },
    {
      "cell_type": "code",
      "metadata": {
        "id": "oeZcd1unXu3P",
        "colab_type": "code",
        "colab": {}
      },
      "source": [
        "def halfCM(df):\n",
        "  corrMatrix = df.corr()\n",
        "  colormap='PiYG' # https://matplotlib.org/3.1.0/gallery/color/colormap_reference.html\n",
        "  mask = np.triu(np.ones_like(corrMatrix, dtype=np.bool))\n",
        "  plt.figure(figsize=(14, 12))\n",
        "  chart = sns.heatmap(corrMatrix, mask=mask, cmap=colormap, vmax=1.0, vmin=-1.0, annot=True)\n",
        "  chart.set_xticklabels(chart.get_xticklabels(), rotation=45)\n",
        "  plt.show()\n",
        "  return\n",
        "\n",
        "halfCM(df)\n"
      ],
      "execution_count": null,
      "outputs": []
    },
    {
      "cell_type": "code",
      "metadata": {
        "id": "yEa1NsIErtkr",
        "colab_type": "code",
        "colab": {}
      },
      "source": [
        "# Remove Correlated Features\n",
        "X = df.drop(columns=['60-89DaysPastDue', '90DaysLate'])\n"
      ],
      "execution_count": null,
      "outputs": []
    },
    {
      "cell_type": "code",
      "metadata": {
        "id": "clYe05xIevyT",
        "colab_type": "code",
        "colab": {}
      },
      "source": [
        "# Run Correlation Matrix again\n",
        "halfCM(X)"
      ],
      "execution_count": null,
      "outputs": []
    },
    {
      "cell_type": "markdown",
      "metadata": {
        "id": "fUX9uDFEGhS2",
        "colab_type": "text"
      },
      "source": [
        "# Make X and y, train_test_split"
      ]
    },
    {
      "cell_type": "code",
      "metadata": {
        "id": "yAwtb09DKKtr",
        "colab_type": "code",
        "colab": {}
      },
      "source": [
        "# Make y and X\n",
        "\n",
        "y = df['Approval']\n",
        "X = X.drop(columns='Approval')\n",
        "\n",
        "from sklearn.model_selection import train_test_split\n",
        "X_train, X_test, y_train, y_test = train_test_split(X, y, test_size=0.005, random_state=42)\n",
        "\n",
        "X_test.shape"
      ],
      "execution_count": null,
      "outputs": []
    },
    {
      "cell_type": "markdown",
      "metadata": {
        "id": "xFtmp27paAF1",
        "colab_type": "text"
      },
      "source": [
        "#Models"
      ]
    },
    {
      "cell_type": "code",
      "metadata": {
        "id": "mUOLxYjFZ-dC",
        "colab_type": "code",
        "colab": {}
      },
      "source": [
        "# from sklearn import preprocessing\n",
        "from sklearn.ensemble import RandomForestClassifier\n",
        "from sklearn.ensemble import RandomForestRegressor\n",
        "from sklearn.metrics import accuracy_score\n",
        "\n",
        "regr = RandomForestRegressor(random_state=0, n_jobs=-1)\n",
        "model = regr.fit(X_train, y_train)\n",
        "\n",
        "# Print something\n",
        "preds=model.predict(X_test)\n",
        "rpreds = np.around(preds)\n",
        "print(\"Accuracy = {}\".format(accuracy_score(y_test, rpreds)))"
      ],
      "execution_count": null,
      "outputs": []
    },
    {
      "cell_type": "markdown",
      "metadata": {
        "id": "SKQiXYLh2u8A",
        "colab_type": "text"
      },
      "source": [
        "#Feature Importance\n"
      ]
    },
    {
      "cell_type": "code",
      "metadata": {
        "id": "bKlPX-3J4uOu",
        "colab_type": "code",
        "colab": {}
      },
      "source": [
        "df=X_train\n",
        "\n",
        "# Feature importance dataframe\n",
        "imp_df = pd.DataFrame({'feature': df.columns,\n",
        "                       'importance': model.feature_importances_})\n",
        "\n",
        "# Reorder by importance\n",
        "ordered_df = imp_df.sort_values(by='importance')\n",
        "imp_range=range(1,len(imp_df.index)+1)\n",
        "\n",
        "plt.figure(figsize=(8,6))\n",
        "\n",
        "## Barplot with confidence intervals\n",
        "height = ordered_df['importance']\n",
        "bars = ordered_df['feature']\n",
        "y_pos = np.arange(len(bars))\n",
        "\n",
        "plt.rcParams.update({'font.size': 12})\n",
        "\n",
        "plt.barh(y_pos, height)\n",
        "plt.yticks(y_pos, bars)\n",
        "plt.xlabel(\"Importance\")\n",
        "\n",
        "plt.tight_layout()\n",
        "plt.show()\n"
      ],
      "execution_count": null,
      "outputs": []
    },
    {
      "cell_type": "markdown",
      "metadata": {
        "id": "atyu7p8-MMgt",
        "colab_type": "text"
      },
      "source": [
        "# My ICE Plots"
      ]
    },
    {
      "cell_type": "markdown",
      "metadata": {
        "id": "T06PtG04dMpd",
        "colab_type": "text"
      },
      "source": [
        "code from: "
      ]
    },
    {
      "cell_type": "markdown",
      "metadata": {
        "id": "4oCODVqQPXS0",
        "colab_type": "text"
      },
      "source": [
        "## Import Pycebox (need ice)"
      ]
    },
    {
      "cell_type": "code",
      "metadata": {
        "id": "IZn0h9jHPM9u",
        "colab_type": "code",
        "colab": {}
      },
      "source": [
        "!pip install pycebox\n",
        "\n",
        "# Just need ice\n",
        "from pycebox.ice import ice, ice_plot"
      ],
      "execution_count": null,
      "outputs": []
    },
    {
      "cell_type": "markdown",
      "metadata": {
        "id": "DIwwEp8ZO1Em",
        "colab_type": "text"
      },
      "source": [
        "## Load my_ice_plot"
      ]
    },
    {
      "cell_type": "code",
      "metadata": {
        "colab_type": "code",
        "id": "Iu0kYwOl3w70",
        "colab": {}
      },
      "source": [
        "# Original Copyright (c) 2015 Austin Rochford and contributors.\n",
        "# This code is a derivative work of code distributed under the  MIT License (MIT)\n",
        "# https://github.com/AustinRochford/PyCEbox\n",
        "       \n",
        "def my_ice_plot(ice_data, \n",
        "                INS_df, # Instance of interest\n",
        "                INS_xy, # feature value and prediction for the instance\n",
        "                frac_to_plot=1.,\n",
        "                plot_points=False, point_kwargs=None,\n",
        "                x_quantile=False, \n",
        "                centered=False, centered_quantile=0.,\n",
        "                color_by=None, cmap=None, ax=None, \n",
        "                plot_pdp=False,\n",
        "                plot_ins=False,\n",
        "                pdp_kwargs=None, \n",
        "                INS_df_kwargs=None, \n",
        "                INS_xy_kwargs=None,\n",
        "                **kwargs):\n",
        "\n",
        "    if not ice_data.index.is_monotonic_increasing:\n",
        "        ice_data = ice_data.sort_index()\n",
        "\n",
        "    if centered:\n",
        "        quantiles = _get_quantiles(ice_data.index)\n",
        "        centered_quantile_iloc = np.abs(quantiles - centered_quantile).argmin()\n",
        "        ice_data = ice_data - ice_data.iloc[centered_quantile_iloc]\n",
        "\n",
        "    if frac_to_plot < 1.:\n",
        "        n_cols = ice_data.shape[1]\n",
        "        icols = np.random.choice(n_cols, size=frac_to_plot * n_cols, replace=False)\n",
        "        plot_ice_data = ice_data.iloc[:, icols]\n",
        "    else:\n",
        "        plot_ice_data = ice_data\n",
        "\n",
        "\n",
        "    if x_quantile:\n",
        "        x = _get_quantiles(ice_data.index)\n",
        "    else:\n",
        "        x = ice_data.index\n",
        "\n",
        "    if plot_points:\n",
        "        point_x_ilocs = _get_point_x_ilocs(plot_ice_data.index, plot_ice_data.columns)\n",
        "        point_x = x[point_x_ilocs]\n",
        "        point_y = plot_ice_data.values[point_x_ilocs, np.arange(point_x_ilocs.size)]\n",
        "\n",
        "    if ax is None:\n",
        "        _, ax = plt.subplots()\n",
        "\n",
        "\n",
        "    if color_by is not None:\n",
        "        if isinstance(color_by, six.string_types):\n",
        "            colors_raw = plot_ice_data.columns.get_level_values(color_by).values\n",
        "        elif hasattr(color_by, '__call__'):\n",
        "            col_df = pd.DataFrame(list(plot_ice_data.columns.values), columns=plot_ice_data.columns.names)\n",
        "            colors_raw = color_by(col_df)\n",
        "        else:\n",
        "            raise ValueError('color_by must be a string or function')\n",
        "\n",
        "        norm = colors.Normalize(colors_raw.min(), colors_raw.max())\n",
        "        m = cm.ScalarMappable(norm=norm, cmap=cmap)\n",
        "\n",
        "        for color_raw, (_, ice_curve) in zip(colors_raw, plot_ice_data.iteritems()):\n",
        "            c = m.to_rgba(color_raw)\n",
        "            ax.plot(x, ice_curve, c=c, zorder=0, **kwargs)\n",
        "    else:\n",
        "        ax.plot(x, plot_ice_data, zorder=0, **kwargs)\n",
        "\n",
        "    if plot_points:\n",
        "        ax.scatter(point_x, point_y, zorder=30, **(point_kwargs or {}))\n",
        "\n",
        "    if plot_pdp:\n",
        "        pdp_kwargs = pdp_kwargs or {}\n",
        "        pdp_data = pdp(ice_data)\n",
        "        ax.plot(x, pdp_data, **pdp_kwargs)\n",
        "\n",
        "# Plot Instance\n",
        "    if plot_ins:\n",
        "      ax.plot(x, INS_df, **INS_df_kwargs)\n",
        "      ax.plot(INS_xy[0], INS_xy[1], zorder=10, **INS_xy_kwargs)\n",
        "    return ax \n",
        "\n",
        "\n",
        "def pdp(ice_data):\n",
        "    Hilight = ice_data.mean(axis=1)\n",
        "    return Hilight\n",
        "\n"
      ],
      "execution_count": null,
      "outputs": []
    },
    {
      "cell_type": "markdown",
      "metadata": {
        "id": "mVpxfXJpX_SC",
        "colab_type": "text"
      },
      "source": [
        "##Function Definitions"
      ]
    },
    {
      "cell_type": "code",
      "metadata": {
        "id": "uBLbyA1R5Qjx",
        "colab_type": "code",
        "colab": {}
      },
      "source": [
        "# Function Definitions\n",
        "\n",
        "def get_ins(feature_ice_df, odf, Feature, INS):\n",
        "  instance_df = move_col(odf, Feature)  \n",
        "  INS_tuple = tuple(instance_df.iloc[INS, :])\n",
        "#  print('INS_tuple: ', INS_tuple)\n",
        "  INS_line = feature_ice_df.loc[:, INS_tuple]\n",
        "#  print('INS_line:', INS_line)\n",
        "  INS_df = pd.DataFrame(INS_line)\n",
        "#  print(INS_df)\n",
        "  return INS_df\n",
        "\n",
        "def move_col(df, Col):\n",
        "  df1 = pd.DataFrame(df[Col])\n",
        "  df2 = df.drop(Col, axis=1)\n",
        "  df3 = pd.concat([df1, df2], axis=1)\n",
        "  return df3\n",
        "\n",
        "def Ins_Feat_Pred(INS, Feat, odf, INS_df):\n",
        "  FeatN = odf.columns.get_loc(Feat)\n",
        "  Row_idx = odf.iloc[INS, FeatN]\n",
        "  idf = move_col(odf, Feat)\n",
        "  Col_idx = tuple(idf.iloc[INS, :])\n",
        "  Pred = INS_df.loc[Row_idx, Col_idx]\n",
        "  return tuple([Row_idx, Pred])\n"
      ],
      "execution_count": null,
      "outputs": []
    },
    {
      "cell_type": "markdown",
      "metadata": {
        "id": "fyhwgnJkKnSG",
        "colab_type": "text"
      },
      "source": [
        "## Single Plots"
      ]
    },
    {
      "cell_type": "code",
      "metadata": {
        "colab_type": "code",
        "id": "b1EaHIvvUgTi",
        "colab": {}
      },
      "source": [
        "INS = 202\n",
        "DATA = X_test\n",
        "Feature = 'Utilization'\n",
        "\n",
        "sns.set(style=\"white\",  font_scale=1.2, rc={\"figure.figsize\":(12,9)})\n",
        "\n",
        "# Using ice function from Pycebox\n",
        "feature_ice_df = ice(data=DATA, column=Feature, predict=model.predict)\n",
        "\n",
        "# get Instance df and xy\n",
        "INS_df = get_ins(feature_ice_df, DATA, Feature, INS)\n",
        "INS_xy = Ins_Feat_Pred(INS, Feature, DATA, INS_df)\n",
        "\n",
        "# Color names: https://matplotlib.org/gallery/color/named_colors.html\n",
        "my_ice_plot(feature_ice_df, \n",
        "            INS_df, \n",
        "            INS_xy,\n",
        "            linewidth=0.15,\n",
        "            plot_pdp=True,\n",
        "            plot_ins=True,\n",
        "            pdp_kwargs={'c': 'k', 'linewidth': 3, 'alpha':0.9, 'zorder':5000},           \n",
        "            INS_df_kwargs={'c': 'cornflowerblue', 'linewidth': 3, 'marker':'o', 'markersize':8, 'markerfacecolor':'darkblue'},\n",
        "            INS_xy_kwargs={'marker':'D', 'markersize':14, 'markerfacecolor':'gold', 'markeredgecolor':'navy'}\n",
        "            )\n",
        "\n",
        "plt.ylabel('Prediction')\n",
        "plt.xlabel(Feature)\n",
        "plt.show()"
      ],
      "execution_count": null,
      "outputs": []
    },
    {
      "cell_type": "markdown",
      "metadata": {
        "id": "6hLnAXe-d_dh",
        "colab_type": "text"
      },
      "source": [
        "## Multiple ICE plots"
      ]
    },
    {
      "cell_type": "code",
      "metadata": {
        "colab_type": "code",
        "id": "yEvKtYZ3c0zd",
        "colab": {}
      },
      "source": [
        "\n",
        "# INStance number, number of Columns, Number of Features\n",
        "# INS = 78\n",
        "INS = 202\n",
        "NumF = 6 \n",
        "Row = 3\n",
        "Col = 2\n",
        "DATA = X_test\n",
        "\n",
        "# Set in Feature Imporatnce\n",
        "rdf = ordered_df['feature'].values[::-1]\n",
        "\n",
        "feature_names = rdf[0:NumF]\n",
        "\n",
        "fig, axes = plt.subplots(Row, Col, figsize=(10,12))\n",
        "R=0\n",
        "C=0\n",
        "\n",
        "for feature_name in feature_names[:NumF]:\n",
        "    feature_ice_df = ice(data=DATA, column=feature_name, predict=model.predict)\n",
        "    # get Instance df and xy\n",
        "    INS_df = get_ins(feature_ice_df, DATA, feature_name, INS)\n",
        "    INS_xy = Ins_Feat_Pred(INS, feature_name, DATA, INS_df)\n",
        "\n",
        "    plt.subplot(axes[R, C])\n",
        "    my_ice_plot(feature_ice_df, \n",
        "                INS_df, \n",
        "                INS_xy,\n",
        "                linewidth=0.15,\n",
        "                plot_pdp=True,\n",
        "                plot_ins=True,\n",
        "                pdp_kwargs={'c': 'k', 'linewidth': 2},           \n",
        "                INS_df_kwargs={'c': 'cornflowerblue', 'linewidth': 2, 'marker':'o', 'markersize':3, 'markerfacecolor':'navy'},\n",
        "                INS_xy_kwargs={'marker':'D', 'markersize':8, 'markerfacecolor':'gold', 'markeredgecolor':'navy'},\n",
        "                ax=axes[R, C]\n",
        "                )\n",
        "\n",
        "    axes[R, C].set_xlabel(feature_name)\n",
        "    if C == (Col-1): \n",
        "      C=0\n",
        "      R+=1\n",
        "    else:\n",
        "        C+=1\n",
        "\n",
        "fig=axes[0,0].figure\n",
        "fig.text(0.0,0.5, 'Prediction', ha=\"center\", va=\"center\", rotation=90)\n",
        "\n",
        "plt.suptitle('ICE curves', fontsize=18)\n",
        "plt.tight_layout(rect=[0, 0, 1, 0.95])\n"
      ],
      "execution_count": null,
      "outputs": []
    }
  ]
}